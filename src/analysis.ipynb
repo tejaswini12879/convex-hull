{
  "nbformat": 4,
  "nbformat_minor": 0,
  "metadata": {
    "colab": {
      "name": "Testing QuickHull.ipynb",
      "provenance": [],
      "collapsed_sections": []
    },
    "kernelspec": {
      "name": "python3",
      "display_name": "Python 3"
    },
    "language_info": {
      "name": "python"
    }
  },
  "cells": [
    {
      "cell_type": "markdown",
      "metadata": {
        "id": "aViQ7ZG2CJG1"
      },
      "source": [
        "## Convex Hull for 3D points - **Quick Hull Algorithm**"
      ]
    },
    {
      "cell_type": "markdown",
      "metadata": {
        "id": "ulYMKrN3CZXt"
      },
      "source": [
        "## Input"
      ]
    },
    {
      "cell_type": "code",
      "metadata": {
        "id": "EAU_YiBs0TX5"
      },
      "source": [
        "import plotly.graph_objects as go # install the necessary libraries incase of error\n",
        "import numpy as np \n",
        "from scipy.spatial import ConvexHull, convex_hull_plot_2d\n",
        "import random\n",
        "import timeit\n",
        "import sys\n",
        "import os\n",
        "from math import *"
      ],
      "execution_count": null,
      "outputs": []
    },
    {
      "cell_type": "code",
      "metadata": {
        "id": "nTGGK42RCFh-"
      },
      "source": [
        "\n",
        "def readInput(filename):\n",
        "  try :\n",
        "    array2D=[]\n",
        "    with open(filename, 'r') as f:\n",
        "      for line in f.readlines()[0:]:\n",
        "        lines=line.rstrip('\\n')\n",
        "        lines=lines.split()\n",
        "        temp=[]\n",
        "        for i in lines:\n",
        "          temp.append(float(i))\n",
        "        array2D.append(point(temp[0],temp[1],temp[2]))\n",
        "    return array2D\n",
        "  except:\n",
        "  # code for reading Input\n",
        "    inp = []\n",
        "    x=[0, 0, 1, 1, 0, 0, 1, 1]\n",
        "    y=[0, 1, 1, 0, 0, 1, 1, 0]\n",
        "    z=[0, 0, 0, 0, 1, 1, 1, 1]\n",
        "    for i in range(0,8):\n",
        "      inp.append(point(x[i],y[i],z[i]))\n",
        "  return  inp"
      ],
      "execution_count": null,
      "outputs": []
    },
    {
      "cell_type": "code",
      "metadata": {
        "id": "MR3lsaeCGh-i"
      },
      "source": [
        "def printf(points):\n",
        "  for i in points:\n",
        "    print(i.x, i.y, i.z)"
      ],
      "execution_count": null,
      "outputs": []
    },
    {
      "cell_type": "markdown",
      "metadata": {
        "id": "4weKWncKF8L5"
      },
      "source": [
        "## step 1"
      ]
    },
    {
      "cell_type": "markdown",
      "metadata": {
        "id": "Oz9QtajnSRWJ"
      },
      "source": [
        "### 1.1"
      ]
    },
    {
      "cell_type": "code",
      "metadata": {
        "id": "RhLg7eDwNtj3"
      },
      "source": [
        "## Extreme points\n",
        "def isMin(x,y):\n",
        "  return x<y\n",
        "def isMax(x,y):\n",
        "  return x>y\n",
        "\n",
        "def extremePoints(points):\n",
        "  if (len(points) <4):\n",
        "    print(\"Invalid number of points\")\n",
        "    sys.exit()\n",
        "  xMin = xMax = yMin = yMax = zMin = zMax = points[0]\n",
        "  N = len(points)\n",
        "\n",
        "  for p in points:\n",
        "    \n",
        "    if (xMin.x>p.x):\n",
        "      xMin = p\n",
        "    if (xMax.x<p.x):\n",
        "      xMax = p\n",
        "    \n",
        "    if ( p.y<yMin.y):\n",
        "      yMin = p\n",
        "    if (p.y>yMax.y):\n",
        "      yMax = p\n",
        "\n",
        "    if (p.z<zMin.z ):\n",
        "      zMin = p\n",
        "    if ( p.z>zMax.z ):\n",
        "      zMax = p\n",
        "    \n",
        "  ep = [xMin, xMax, yMin, yMax, zMin, zMax]\n",
        "  return ep\n"
      ],
      "execution_count": null,
      "outputs": []
    },
    {
      "cell_type": "code",
      "metadata": {
        "id": "_MWx9YpOODoN"
      },
      "source": [
        "# classes used for storing points, planes\n",
        "class point:\n",
        "  def __init__ (self, x,y,z):\n",
        "    self.x = x\n",
        "    self.y = y\n",
        "    self.z = z\n",
        "\n",
        "  def euclideanDist(self, p2):\n",
        "    xdist = (self.x - p2.x)**2\n",
        "    ydist = (self.y - p2.y)**2\n",
        "    zdist = (self.z - p2.z)**2\n",
        "    return sqrt(xdist + ydist +zdist)\n",
        "\n",
        "  def dotprod(self,p2):\n",
        "    return self.x*p2.x + self.y*p2.y + self.z*p2.z\n",
        "\n",
        "  def crossprod(self,p2):\n",
        "    x1 = self.y*p2.z - self.z*p2.y\n",
        "    y1 = -(self.x*p2.z - self.z*p2.x)\n",
        "    z1 = self.x*p2.y - self.y*p2.x\n",
        "    return point(x1,y1,z1)\n",
        "\n",
        "  def normalisedV(self):\n",
        "    # printf([self])\n",
        "    mag = self.euclideanDist(point(0,0,0))\n",
        "    return point(self.x/mag, self.y/mag, self.z/mag)\n",
        "\n",
        "  def diff(self,p2):\n",
        "    return point(self.x - p2.x, self.y - p2.y, self.z - p2.z)\n",
        "\n",
        "  def add(self,p2):\n",
        "    return point(self.x + p2.x , self.y + p2.y, self.z + p2.z)\n",
        "\n",
        "  def div(self,x):\n",
        "    return point(self.x/ x , self.y/x, self.z/x)\n",
        "\n",
        "  def mul(self,x):\n",
        "    return point(self.x*x, self.y*x, self.z*x)"
      ],
      "execution_count": null,
      "outputs": []
    },
    {
      "cell_type": "code",
      "metadata": {
        "id": "z7OiCYpQF4cQ"
      },
      "source": [
        "# Tetrahedron using the extreme points\n",
        "def temp_dist(a,p):\n",
        "  normi=(a[0].diff(a[1])).crossprod(a[1].diff(a[2]))\n",
        "  normi=normi.normalisedV()\n",
        "  return abs(normi.dotprod(p.diff(a[0])))\n",
        "def createSimplex( points):\n",
        "  # Extreme points\n",
        "  ep = extremePoints(points)\n",
        "  # printf(ep)\n",
        "  # print()\n",
        "  # for p in ep:\n",
        "  #   print(p.x, p.y, p.z)\n",
        "\n",
        "  # 1 - The two extreme points in the ep list [ forms base line for the simplex ]\n",
        "  extP1 = ep[0]\n",
        "  extP2 = ep[0]\n",
        "  for p1 in ep:\n",
        "    for p2 in ep:\n",
        "      if ( p1.euclideanDist(p2) > extP1.euclideanDist(extP2)):      \n",
        "        extP1 = p1\n",
        "        extP2 = p2\n",
        "  # 2 - Farthest point from the initial line [ third point needed to form triangle/ plane]\n",
        "  # Reference - https://onlinemschool.com/math/library/analytic_geometry/p_line/ or  https://math.stackexchange.com/questions/1905533/find-perpendicular-distance-from-point-to-line-in-3d\n",
        "  distToLine = 0\n",
        "  extP3 = extP1\n",
        "  extP4 = extP1\n",
        "  for pt in points:\n",
        "    if ( pt != extP1 and pt != extP2):\n",
        "      d = (extP2.diff(extP1)).div(extP1.euclideanDist(extP2)) \n",
        "      t = d.dotprod(pt.diff(extP1)) \n",
        "      p = extP1.add( d.mul(t))\n",
        "      dist = p.euclideanDist(pt)\n",
        "      if (distToLine < dist):\n",
        "        distToLine = dist\n",
        "        extP3 = pt\n",
        "  # 3 -  Farthest point from the plane [ Fourth point needed to form tetrahedron]\n",
        "  distToPlane = 0\n",
        "  for pt in points:\n",
        "    if (pt!= extP1 and pt!= extP2 and pt!= extP3):\n",
        "      dist = temp_dist([extP1,extP2,extP3],pt)\n",
        "      if (dist > distToPlane):\n",
        "        extP4 = pt\n",
        "        distToPlane = dist\n",
        "  internal_pts = [extP1, extP2, extP3, extP4] # internal points\n",
        "  # visited=(internal_pts)\n",
        "  return internal_pts\n",
        "\n",
        "# printf(points)\n",
        "# print()\n",
        "# printf(internal_pts)"
      ],
      "execution_count": null,
      "outputs": []
    },
    {
      "cell_type": "code",
      "metadata": {
        "id": "peCmtDSCHPgj"
      },
      "source": [
        "def find_dist(face,pt):\n",
        "  n=face.normal\n",
        "  line=pt.diff(face.p1)\n",
        "  return n.dotprod(line)"
      ],
      "execution_count": null,
      "outputs": []
    },
    {
      "cell_type": "code",
      "metadata": {
        "id": "o6UrwpYI4uX4"
      },
      "source": [
        "# each facet containes 3 points, and 2d plane, 3 edges\n",
        "def find_normal(a):\n",
        "  normi=(a[0].diff(a[1])).crossprod(a[1].diff(a[2]))\n",
        "  normi=normi.normalisedV()\n",
        "  for p in internal_pts:\n",
        "    dist=normi.dotprod(p.diff(a[0]))\n",
        "    #printf([normi])\n",
        "    #print(dist)\n",
        "    if(dist>10**-5):\n",
        "      normi=normi.mul(-1)\n",
        "      break\n",
        "  return normi\n",
        "class facet:\n",
        "  def __init__(self, p1, p2, p3):\n",
        "    self.p1 = p1\n",
        "    self.p2 = p2\n",
        "    self.p3 = p3\n",
        "    self.pts = set()\n",
        "    self.normal=find_normal([p1,p2,p3])\n",
        "\n",
        "  def plane_to_point_dist(self,pt):\n",
        "    v1 = self.plane()\n",
        "    dist = v1.dotprod(pt.diff(self.p1))\n",
        "    return dist\n",
        "  def update(self,lis):\n",
        "    l=[]\n",
        "    for i in lis:\n",
        "      dist=find_dist(self,i)\n",
        "      if((not i in visited) and (dist>10**-5)):\n",
        "        l.append(i)\n",
        "    self.pts=set(l)"
      ],
      "execution_count": null,
      "outputs": []
    },
    {
      "cell_type": "markdown",
      "metadata": {
        "id": "Zyd1ycFF7C13"
      },
      "source": [
        "## step 2\n",
        "Updating the facets"
      ]
    },
    {
      "cell_type": "code",
      "metadata": {
        "id": "Wbo2UykgiTR5"
      },
      "source": [
        "dic={\"total_planes\":0}"
      ],
      "execution_count": null,
      "outputs": []
    },
    {
      "cell_type": "code",
      "metadata": {
        "id": "k-BBgExvc3kr"
      },
      "source": [
        "visited=[]\n",
        "visfaces = [] # stores the visible faces from farthest point\n",
        "edges_list = [] # stores the edges of the horizon, used to add new facets with farthest point\n",
        "sys.setrecursionlimit(10000000)\n",
        "\n",
        "def edges(face): # returns edges of the face\n",
        "  lis = []\n",
        "  lis.append([face.p1,face.p2])\n",
        "  lis.append([face.p2,face.p3])\n",
        "  lis.append([face.p3,face.p1])\n",
        "  return lis\n",
        "thres = 10**-9\n",
        "\n",
        "def checkEdge(e,l): # edges checking\n",
        "  for i in l:\n",
        "    if e[0]==i[0] and e[1] == i[1]:\n",
        "      return 1\n",
        "    if e[0]==i[1] and e[1] == i[0]:\n",
        "      return 1\n",
        "  return 0\n",
        "\n",
        "def horizon(farPoint,face): # horizon\n",
        "  dist = find_dist(face,farPoint)\n",
        "  if (dist < thres):\n",
        "    return 1\n",
        "  visfaces.append(face)\n",
        "  for e in edges(face):\n",
        "    for neighface in req_faces:\n",
        "      if (face!= neighface and checkEdge(e,edges(neighface))):\n",
        "        if  (neighface not in visfaces):\n",
        "          isHorizon = horizon(farPoint, neighface)\n",
        "          if (isHorizon):\n",
        "            edges_list.append(e)\n",
        "        break\n",
        "  return 0"
      ],
      "execution_count": null,
      "outputs": []
    },
    {
      "cell_type": "code",
      "metadata": {
        "id": "qkVGCv5DbEb9"
      },
      "source": [
        "\n",
        "def facesUpdate(req_faces):\n",
        "  while (1):\n",
        "    check = 0\n",
        "    for face in req_faces:\n",
        "      if (len(face.pts)<=0): # Facet is already a convex hull facet\n",
        "        continue\n",
        "      else: # when there is a point above the plane\n",
        "        # farthest point of the facet's point list\n",
        "        check=1\n",
        "        lis = list(face.pts)\n",
        "        pt = lis[0]\n",
        "        dist_max=find_dist(face,pt)\n",
        "        for i in lis:\n",
        "          dist=find_dist(face,i)\n",
        "          if(dist>dist_max):\n",
        "            dist_max=dist\n",
        "            pt=i\n",
        "        # pt = random.choice(lis)\n",
        "        # finding the planes that are visible from the farthest point\n",
        "        visfaces.clear()\n",
        "        edges_list.clear()\n",
        "        horizon(pt, face)\n",
        "        for e in edges_list:\n",
        "          nFacet = facet(e[0],e[1],pt)\n",
        "          internalFacetPts = set()\n",
        "          for f in visfaces:\n",
        "            internalFacetPts = internalFacetPts.union(f.pts)\n",
        "          nFacet.update(internalFacetPts)\n",
        "          req_faces.append(nFacet)\n",
        "          dic[\"total_planes\"]+=1\n",
        "        for f in visfaces:\n",
        "          req_faces.remove(f)\n",
        "    if (check==0):\n",
        "      break"
      ],
      "execution_count": null,
      "outputs": []
    },
    {
      "cell_type": "markdown",
      "metadata": {
        "id": "tEJeHgE38Ium"
      },
      "source": [
        "## Main"
      ]
    },
    {
      "cell_type": "code",
      "metadata": {
        "id": "aZ4eef413iL8"
      },
      "source": [
        "def random_generate(num):\n",
        "  l=[]\n",
        "  for i in range(num):\n",
        "    l.append(point(random.uniform(1,1000),random.uniform(1,1000),random.uniform(1,1000)))\n",
        "  return l"
      ],
      "execution_count": null,
      "outputs": []
    },
    {
      "cell_type": "code",
      "metadata": {
        "id": "PAF-QZq3Tarx",
        "colab": {
          "base_uri": "https://localhost:8080/"
        },
        "outputId": "4d2a0203-5c1d-443b-be36-74d3cb013dae"
      },
      "source": [
        "timer_quick_hull=[]\n",
        "faces_quick_hull=[]\n",
        "timer_inbuilt=[]\n",
        "list_points=[10,20,30,40,50,60,70,80,90,100,500,1000,1500,2000,3000,3500,4000,5000]\n",
        "for i in list_points:\n",
        "  points=random_generate(i) ## file name\n",
        "  internal_pts=createSimplex(points)\n",
        "  # Creating facets using internal points\n",
        "  face1=facet(internal_pts[0],internal_pts[1],internal_pts[2])\n",
        "  face2=facet(internal_pts[0],internal_pts[1],internal_pts[3])\n",
        "  face3=facet(internal_pts[0],internal_pts[2],internal_pts[3])\n",
        "  face4=facet(internal_pts[1],internal_pts[2],internal_pts[3])\n",
        "  # adding the outside points to corresponding faces\n",
        "  req_faces=[face1,face3,face2,face4]\n",
        "  face1.update(points)\n",
        "  face2.update(points)\n",
        "  face3.update(points)\n",
        "  face4.update(points)\n",
        "  dic[\"total_planes\"]=4\n",
        "  x1 =[]\n",
        "  y1=[]\n",
        "  z1 =[]\n",
        "  for pt in points:\n",
        "    x1.append(pt.x)\n",
        "    y1.append(pt.y)\n",
        "    z1.append(pt.z)\n",
        "\n",
        "\n",
        "\n",
        "  start = timeit.default_timer()\n",
        "  facesUpdate(req_faces)\n",
        "  fn=timeit.default_timer()\n",
        "  timer_quick_hull.append(fn-start)\n",
        "  faces_quick_hull.append(dic[\"total_planes\"])\n",
        "\n",
        "\n",
        "  s=set(req_faces)\n",
        "  cnt=0\n",
        "  points_final=set()\n",
        "  for i in req_faces:\n",
        "    if(len(i.pts)==0):\n",
        "      cnt+=1\n",
        "      points_final.add(i.p1)\n",
        "      points_final.add(i.p2)\n",
        "      points_final.add(i.p3)\n",
        "      # printf([i.p1,i.p2,i.p3,i.normal])\n",
        "      # print()\n",
        "  print(\"Number of planes - \",cnt,\"Number of vertices -\",len(points_final))"
      ],
      "execution_count": null,
      "outputs": [
        {
          "output_type": "stream",
          "name": "stdout",
          "text": [
            "Number of planes -  12 Number of vertices - 8\n",
            "Number of planes -  22 Number of vertices - 13\n",
            "Number of planes -  32 Number of vertices - 18\n",
            "Number of planes -  38 Number of vertices - 21\n",
            "Number of planes -  42 Number of vertices - 23\n",
            "Number of planes -  42 Number of vertices - 23\n",
            "Number of planes -  60 Number of vertices - 32\n",
            "Number of planes -  54 Number of vertices - 29\n",
            "Number of planes -  56 Number of vertices - 30\n",
            "Number of planes -  48 Number of vertices - 26\n",
            "Number of planes -  86 Number of vertices - 45\n",
            "Number of planes -  138 Number of vertices - 71\n",
            "Number of planes -  164 Number of vertices - 84\n",
            "Number of planes -  178 Number of vertices - 91\n",
            "Number of planes -  168 Number of vertices - 86\n",
            "Number of planes -  188 Number of vertices - 96\n",
            "Number of planes -  176 Number of vertices - 90\n",
            "Number of planes -  222 Number of vertices - 113\n"
          ]
        }
      ]
    },
    {
      "cell_type": "code",
      "metadata": {
        "colab": {
          "base_uri": "https://localhost:8080/"
        },
        "id": "jyM_2RP-kQrE",
        "outputId": "d41e7af3-f3f8-4bee-ac9e-80a6ec9a1b4b"
      },
      "source": [
        "timer_random=[]\n",
        "faces_random=[]\n",
        "list_points=[10,20,30,40,50,60,70,80,90,100,500,1000,1500,2000,3000,3500,4000,5000]\n",
        "for i in list_points:\n",
        "  points=random_generate(i) ## file name\n",
        "  internal_pts=createSimplex(points)\n",
        "\n",
        "  # Creating facets using internal points\n",
        "  face1=facet(internal_pts[0],internal_pts[1],internal_pts[2])\n",
        "  face2=facet(internal_pts[0],internal_pts[1],internal_pts[3])\n",
        "  face3=facet(internal_pts[0],internal_pts[2],internal_pts[3])\n",
        "  face4=facet(internal_pts[1],internal_pts[2],internal_pts[3])\n",
        "  # adding the outside points to corresponding faces\n",
        "  req_faces=[face1,face3,face2,face4]\n",
        "  face1.update(points)\n",
        "  face2.update(points)\n",
        "  face3.update(points)\n",
        "  face4.update(points)\n",
        "  dic[\"total_planes\"]=4\n",
        "  start = timeit.default_timer()\n",
        "  facesUpdate(req_faces)\n",
        "  fn=timeit.default_timer()\n",
        "  timer_random.append(fn-start)\n",
        "  faces_random.append(dic[\"total_planes\"])\n",
        "\n",
        "  s=set(req_faces)\n",
        "  cnt=0\n",
        "  points_final=set()\n",
        "  for i in req_faces:\n",
        "    if(len(i.pts)==0):\n",
        "      cnt+=1\n",
        "      points_final.add(i.p1)\n",
        "      points_final.add(i.p2)\n",
        "      points_final.add(i.p3)\n",
        "      # printf([i.p1,i.p2,i.p3,i.normal])\n",
        "      # print()\n",
        "  print(\"Number of planes - \",cnt,\"Number of vertices -\",len(points_final))"
      ],
      "execution_count": null,
      "outputs": [
        {
          "output_type": "stream",
          "name": "stdout",
          "text": [
            "Number of planes -  12 Number of vertices - 8\n",
            "Number of planes -  26 Number of vertices - 15\n",
            "Number of planes -  34 Number of vertices - 19\n",
            "Number of planes -  42 Number of vertices - 23\n",
            "Number of planes -  38 Number of vertices - 21\n",
            "Number of planes -  46 Number of vertices - 25\n",
            "Number of planes -  50 Number of vertices - 27\n",
            "Number of planes -  58 Number of vertices - 31\n",
            "Number of planes -  46 Number of vertices - 25\n",
            "Number of planes -  58 Number of vertices - 31\n",
            "Number of planes -  112 Number of vertices - 58\n",
            "Number of planes -  116 Number of vertices - 60\n",
            "Number of planes -  150 Number of vertices - 77\n",
            "Number of planes -  172 Number of vertices - 88\n",
            "Number of planes -  170 Number of vertices - 87\n",
            "Number of planes -  196 Number of vertices - 100\n",
            "Number of planes -  168 Number of vertices - 86\n",
            "Number of planes -  252 Number of vertices - 128\n"
          ]
        }
      ]
    },
    {
      "cell_type": "code",
      "metadata": {
        "id": "KUaGkDzRotci"
      },
      "source": [
        "def brute(input):\n",
        "  points=random_generate(input)\n",
        "  def check_dist(face,point):\n",
        "    pt1=face.p1\n",
        "    pt2=face.p2\n",
        "    pt3=face.p3\n",
        "    n=pt1.diff(pt2).crossprod(pt1.diff(pt3))\n",
        "    n=n.normalisedV()\n",
        "    line=point.diff(face.p1)\n",
        "    return n.dotprod(line)\n",
        "  def check(face):\n",
        "    s=set()\n",
        "    for i in points:\n",
        "      if(i==face.p1 or i==face.p2 or i==face.p3):\n",
        "        continue\n",
        "      if(check_dist(face,i) > 10**-10):\n",
        "        s.add(1)\n",
        "      else :\n",
        "        s.add(-1)\n",
        "      if(len(s)>1):\n",
        "        return 0\n",
        "    return 1\n",
        "  N=len(points)\n",
        "  l=[]\n",
        "  l_planes=set()\n",
        "  ans=0\n",
        "  final=0\n",
        "  for i in range(N):\n",
        "    for j in range(i+1,N):\n",
        "      for k in range(j+1,N):\n",
        "        ans+=1\n",
        "        if(check(facet(points[i],points[j],points[k]))):\n",
        "          l_planes.add(facet(points[i],points[j],points[k]))\n",
        "  print(len(l_planes))\n",
        "  return ans"
      ],
      "execution_count": null,
      "outputs": []
    },
    {
      "cell_type": "code",
      "metadata": {
        "colab": {
          "base_uri": "https://localhost:8080/"
        },
        "id": "dfTppawFv97p",
        "outputId": "25c13daf-9b7b-425e-988a-340e4288b266"
      },
      "source": [
        "time_brute=[]\n",
        "faces_brute=[]\n",
        "import time\n",
        "for i in list_points[:10]:\n",
        "  st=time.time()\n",
        "  faces_brute.append(brute(i))\n",
        "  fn=time.time()\n",
        "  time_brute.append(fn-st)"
      ],
      "execution_count": null,
      "outputs": [
        {
          "output_type": "stream",
          "name": "stdout",
          "text": [
            "14\n",
            "26\n",
            "26\n",
            "38\n",
            "48\n",
            "44\n",
            "52\n",
            "58\n",
            "50\n",
            "58\n"
          ]
        }
      ]
    },
    {
      "cell_type": "code",
      "metadata": {
        "colab": {
          "base_uri": "https://localhost:8080/"
        },
        "id": "Z8eZfGcfk6s6",
        "outputId": "51bcb86d-63b3-4695-d346-48a7587bbf4a"
      },
      "source": [
        "print(timer_random,'\\n',timer_quick_hull,'\\n',time_brute)"
      ],
      "execution_count": null,
      "outputs": [
        {
          "output_type": "stream",
          "name": "stdout",
          "text": [
            "[0.0006356289995892439, 0.00299279499995464, 0.004234248999637202, 0.013589467000201694, 0.012122007001380553, 0.015293640999516356, 0.013228390000222134, 0.012170899000921054, 0.011020419000487891, 0.016148409000379615, 0.07995784000013373, 0.11877485799959686, 0.1684146759998839, 0.2513864590000594, 0.2829366360001586, 0.339586774000054, 0.39432867700088536, 0.5410459390004689] \n",
            " [0.000672858999678283, 0.0017993250003200956, 0.0028391330015438143, 0.003682806000142591, 0.004357780999271199, 0.0037943509996694047, 0.02055282699984673, 0.007695428001170512, 0.007591605000925483, 0.00672914900133037, 0.03302542799974617, 0.05365939900002559, 0.08134706399869174, 0.08100770099918009, 0.13488991600024747, 0.12518655699932424, 0.122133508000843, 0.19210504799957562] \n",
            " [0.00653386116027832, 0.07363557815551758, 0.20542693138122559, 0.380786657333374, 0.832305908203125, 1.5619990825653076, 2.289327621459961, 2.883169174194336, 4.852898359298706, 6.316635608673096]\n"
          ]
        }
      ]
    },
    {
      "cell_type": "markdown",
      "metadata": {
        "id": "8WniF_240Ip_"
      },
      "source": [
        "### Time Comparison"
      ]
    },
    {
      "cell_type": "code",
      "metadata": {
        "colab": {
          "base_uri": "https://localhost:8080/",
          "height": 562
        },
        "id": "xb2Je6wslJkV",
        "outputId": "45689058-10c1-4a52-9145-6b90f14356d0"
      },
      "source": [
        "import matplotlib.pyplot as plt\n",
        "plt.title('timings of algorithm')\n",
        "plt.plot(list_points[:10],timer_random[:10],color='g',label='random_incrementation')\n",
        "plt.plot(list_points[:10],timer_quick_hull[:10],color='y',label='quick hull')\n",
        "plt.plot(list_points[:10],time_brute[:10],color='b',label='brute force')\n",
        "plt.legend()\n",
        "plt.figure()\n",
        "plt.title('timings of algorithm')\n",
        "plt.plot(list_points,timer_random,color='g',label='random_incrementation')\n",
        "plt.plot(list_points,timer_quick_hull,color='y',label='quick hull')\n",
        "# plt.plot(time_brute[:10],color='b',label='brute force')\n",
        "plt.legend()"
      ],
      "execution_count": null,
      "outputs": [
        {
          "output_type": "execute_result",
          "data": {
            "text/plain": [
              "<matplotlib.legend.Legend at 0x7f032dcce750>"
            ]
          },
          "metadata": {},
          "execution_count": 33
        },
        {
          "output_type": "display_data",
          "data": {
            "image/png": "[encoded data removed]",
            "text/plain": [
              "<Figure size 432x288 with 1 Axes>"
            ]
          },
          "metadata": {
            "needs_background": "light"
          }
        },
        {
          "output_type": "display_data",
          "data": {
            "image/png": "[encoded data removed]",
            "text/plain": [
              "<Figure size 432x288 with 1 Axes>"
            ]
          },
          "metadata": {
            "needs_background": "light"
          }
        }
      ]
    },
    {
      "cell_type": "markdown",
      "metadata": {
        "id": "IuldSrno1ojY"
      },
      "source": [
        "### Faces comparison"
      ]
    },
    {
      "cell_type": "code",
      "metadata": {
        "colab": {
          "base_uri": "https://localhost:8080/"
        },
        "id": "qrVTN-HZoCg3",
        "outputId": "a916d5b1-e956-488a-a7ee-78541afcf56f"
      },
      "source": [
        "print(faces_random,'\\n',faces_quick_hull,'\\n',faces_brute)"
      ],
      "execution_count": null,
      "outputs": [
        {
          "output_type": "stream",
          "name": "stdout",
          "text": [
            "[22, 61, 79, 110, 90, 139, 155, 147, 136, 159, 407, 497, 600, 783, 637, 935, 883, 1050] \n",
            " [18, 41, 63, 76, 84, 76, 128, 105, 110, 98, 198, 303, 378, 403, 383, 421, 390, 501] \n",
            " [120, 1140, 4060, 9880, 19600, 34220, 54740, 82160, 117480, 161700]\n"
          ]
        }
      ]
    },
    {
      "cell_type": "code",
      "metadata": {
        "colab": {
          "base_uri": "https://localhost:8080/",
          "height": 562
        },
        "id": "tGf0pSx3n1lZ",
        "outputId": "798b9387-d151-44b8-ea39-e6489b5d322f"
      },
      "source": [
        "import matplotlib.pyplot as plt\n",
        "plt.title('total faces checked')\n",
        "plt.plot(list_points[:10],faces_random[:10],color='g',label='random_incrementation')\n",
        "plt.plot(list_points[:10],faces_quick_hull[:10],color='y',label='quick hull')\n",
        "plt.plot(list_points[:10],faces_brute[:10],color='b',label='brute force')\n",
        "plt.legend()\n",
        "plt.figure()\n",
        "plt.title('total faces checked')\n",
        "plt.plot(list_points,faces_random,color='g',label='random_incrementation')\n",
        "plt.plot(list_points,faces_quick_hull,color='y',label='quick hull')\n",
        "# plt.plot(time_brute[:10],color='b',label='brute force')\n",
        "plt.legend()"
      ],
      "execution_count": null,
      "outputs": [
        {
          "output_type": "execute_result",
          "data": {
            "text/plain": [
              "<matplotlib.legend.Legend at 0x7f032de52290>"
            ]
          },
          "metadata": {},
          "execution_count": 35
        },
        {
          "output_type": "display_data",
          "data": {
            "image/png": "[encoded data removed]",
            "text/plain": [
              "<Figure size 432x288 with 1 Axes>"
            ]
          },
          "metadata": {
            "needs_background": "light"
          }
        },
        {
          "output_type": "display_data",
          "data": {
            "image/png": "[encoded data removed]",
            "text/plain": [
              "<Figure size 432x288 with 1 Axes>"
            ]
          },
          "metadata": {
            "needs_background": "light"
          }
        }
      ]
    },
    {
      "cell_type": "markdown",
      "metadata": {
        "id": "lOaUPJaP_WLT"
      },
      "source": [
        "Time in secs \n",
        "\n",
        "faces and time as a tuple\n",
        "\n",
        "| points | quick hull | random incremental | brute force | final external points | final external faces |  \n",
        "| ----- | ---- | --- | ------ | --------| ---------|\n",
        "| 10 | (22,0.00055)|(26,0.00074)|(120,0.00653)|9|14|\n",
        "| 20 |(45,0.00190)| (50,0.00204)|(1140,0.07363)|14|24|\n",
        "| 30 |(62,0.00258)|(68,0.00286)|(4060,0.20542)|18|32|\n",
        "| 40 |(67,0.00546)|(104,0.00895)|(9880,0.38078)|20|36|\n",
        "| 50 | (103,0.00609)|(118,0.01044)|(19600,0.83230)|27|50|\n",
        "| 60 | (79,0.00429)|(139,0.010295)|(34220,1.56199)|23|42|\n",
        "| 70 |(92,0.00618)|(125,0.01164)|(54740,2.28932)|27|50|\n",
        "| 80 | (93,0.00969)|(128,0.01004)|(82160,2.88316)|26|48|\n",
        "| 90 |(152,0.01526)|(148,0.01547)|(117480,4.85289)|37|70|\n",
        "|100|(143,0.01702)|(203,0.02552)|(161700,6.31663)|34|64|\n",
        "|500|(221,0.03119)|(509,0.1255)|()|54|104|\n",
        "| 1000|(294,0.05998)|(548,0.15100)|()|72|140|\n",
        "| 1500 |(340,0.07090)|(528,0.14523)|()|75|146|\n",
        "|2000|(406,0.10750)|(825,0.34044)|()|87|170|\n",
        "|3000|(399,0.11971)|(672,0.28369)|()|91|178|\n",
        "|3500|(347,0.10741)|(9540,0.40385)|()|79|154|\n",
        "|4000|(471,0.15421)|(909,0.42963)|()|101|198|\n",
        "|5000|(442,0.18248)|(1035,0.56535)|()|99|194|"
      ]
    }
  ]
}